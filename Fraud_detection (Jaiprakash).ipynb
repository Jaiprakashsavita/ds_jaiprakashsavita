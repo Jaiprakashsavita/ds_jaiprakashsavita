{
 "cells": [
  {
   "cell_type": "code",
   "execution_count": 24,
   "id": "c2c464ce-dadb-4bd9-9eb7-30a4226d5aaa",
   "metadata": {},
   "outputs": [],
   "source": [
    "import os\n",
    "import gc\n",
    "import time\n",
    "from pathlib import Path\n",
    "import numpy as np\n",
    "import pandas as pd\n",
    "\n",
    "from sklearn.model_selection import train_test_split\n",
    "from sklearn.metrics import roc_auc_score, average_precision_score, precision_recall_curve, precision_score, recall_score, f1_score, confusion_matrix\n",
    "\n",
    "import matplotlib.pyplot as plt\n",
    "import lightgbm as lgb\n",
    "import shap"
   ]
  },
  {
   "cell_type": "code",
   "execution_count": 28,
   "id": "1c0e6837-1c56-485c-86f6-e031d1a961e2",
   "metadata": {},
   "outputs": [],
   "source": [
    "pd.set_option('display.max_columns', 200)\n",
    "DATA_PATH = '/mnt/data/Fraud.csv'\n",
    "OUTPUT_DIR = './output'\n",
    "Path(OUTPUT_DIR).mkdir(parents=True, exist_ok=True)"
   ]
  },
  {
   "cell_type": "code",
   "execution_count": 34,
   "id": "643ecac6-52cc-43f0-8c06-a0e1d89e5cc5",
   "metadata": {},
   "outputs": [
    {
     "name": "stdout",
     "output_type": "stream",
     "text": [
      "Loading data from /mnt/data/Fraud.csv\n",
      "Shape: (6362620, 11)\n",
      "\n",
      "Columns and dtypes:\n",
      "step                int64\n",
      "type               object\n",
      "amount            float64\n",
      "nameOrig           object\n",
      "oldbalanceOrg     float64\n",
      "newbalanceOrig    float64\n",
      "nameDest           object\n",
      "oldbalanceDest    float64\n",
      "newbalanceDest    float64\n",
      "isFraud             int64\n",
      "isFlaggedFraud      int64\n",
      "dtype: object\n",
      "\n",
      "Head:\n",
      "   step      type    amount     nameOrig  oldbalanceOrg  newbalanceOrig  \\\n",
      "0     1   PAYMENT   9839.64  C1231006815       170136.0       160296.36   \n",
      "1     1   PAYMENT   1864.28  C1666544295        21249.0        19384.72   \n",
      "2     1  TRANSFER    181.00  C1305486145          181.0            0.00   \n",
      "3     1  CASH_OUT    181.00   C840083671          181.0            0.00   \n",
      "4     1   PAYMENT  11668.14  C2048537720        41554.0        29885.86   \n",
      "\n",
      "      nameDest  oldbalanceDest  newbalanceDest  isFraud  isFlaggedFraud  \n",
      "0  M1979787155             0.0             0.0        0               0  \n",
      "1  M2044282225             0.0             0.0        0               0  \n",
      "2   C553264065             0.0             0.0        1               0  \n",
      "3    C38997010         21182.0             0.0        1               0  \n",
      "4  M1230701703             0.0             0.0        0               0  \n"
     ]
    }
   ],
   "source": [
    "SAMPLE_MODE = True # Set to True to train faster on a balanced sample for prototyping\n",
    "SAMPLE_SIZE_NEG = 200000 # number of negative (non-fraud) samples to keep when sampling\n",
    "SAMPLE_SIZE_POS = None # keep all positives by default\n",
    "RANDOM_STATE = 42\n",
    "# %%\n",
    "# 2) Load data and quick EDA\n",
    "print('Loading data from', DATA_PATH)\n",
    "df = pd.read_csv(\"Fraud.csv\") \n",
    "print('Shape:', df.shape)\n",
    "print('\\nColumns and dtypes:')\n",
    "print(df.dtypes)\n",
    "print('\\nHead:')\n",
    "print(df.head())"
   ]
  },
  {
   "cell_type": "code",
   "execution_count": 40,
   "id": "cfb56fb0-bfcf-4db4-a224-b9efa1d63750",
   "metadata": {},
   "outputs": [
    {
     "name": "stdout",
     "output_type": "stream",
     "text": [
      "\n",
      "Missing values per column:\n",
      "step              0\n",
      "type              0\n",
      "amount            0\n",
      "nameOrig          0\n",
      "oldbalanceOrg     0\n",
      "newbalanceOrig    0\n",
      "nameDest          0\n",
      "oldbalanceDest    0\n",
      "newbalanceDest    0\n",
      "isFraud           0\n",
      "isFlaggedFraud    0\n",
      "dtype: int64\n",
      "\n",
      "Fraud distribution:\n",
      "isFraud\n",
      "0    6354407\n",
      "1       8213\n",
      "Name: count, dtype: int64\n",
      "Fraud rate: 0.001291\n",
      "\n",
      "Amount summary:\n",
      "count    6.362620e+06\n",
      "mean     1.798619e+05\n",
      "std      6.038582e+05\n",
      "min      0.000000e+00\n",
      "25%      1.338957e+04\n",
      "50%      7.487194e+04\n",
      "75%      2.087215e+05\n",
      "max      9.244552e+07\n",
      "Name: amount, dtype: float64\n"
     ]
    }
   ],
   "source": [
    "# Check missing values\n",
    "print('\\nMissing values per column:')\n",
    "print(df.isna().sum())\n",
    "\n",
    "# Basic target distribution\n",
    "fraud_counts = df['isFraud'].value_counts()\n",
    "print('\\nFraud distribution:')\n",
    "print(fraud_counts)\n",
    "print('Fraud rate: {:.6f}'.format(df['isFraud'].mean()))\n",
    "\n",
    "# Quick stats on amount\n",
    "print('\\nAmount summary:')\n",
    "print(df['amount'].describe())"
   ]
  },
  {
   "cell_type": "code",
   "execution_count": 42,
   "id": "9475c5b0-df5b-44ef-9420-12cd916ceb18",
   "metadata": {},
   "outputs": [
    {
     "data": {
      "image/png": "[encoded data removed]",
      "text/plain": [
       "<Figure size 600x400 with 1 Axes>"
      ]
     },
     "metadata": {},
     "output_type": "display_data"
    }
   ],
   "source": [
    "# %%\n",
    "# Plot class imbalance (small plot)\n",
    "plt.figure(figsize=(6,4))\n",
    "plt.bar([0,1], [fraud_counts.get(0,0), fraud_counts.get(1,0)])\n",
    "plt.xticks([0,1])\n",
    "plt.xlabel('isFraud')\n",
    "plt.title('Class distribution')\n",
    "plt.show()"
   ]
  },
  {
   "cell_type": "code",
   "execution_count": 52,
   "id": "006a149b-75ae-4ba0-82a8-808d01368588",
   "metadata": {},
   "outputs": [],
   "source": [
    "# %%\n",
    "# 3) Basic Cleaning and Feature Engineering functions\n",
    "\n",
    "# Copy to avoid modifying in place\n",
    "def basic_feature_engineering(df):\n",
    "    df = df.copy()\n",
    "    \n",
    "\n",
    "# types\n",
    "    df['type'] = df['type'].astype('category')\n",
    "\n",
    "\n",
    "# Merchant flag for destination (nameDest starting with 'M')\n",
    "    df['is_dest_merchant'] = df['nameDest'].str.startswith('M').astype(int)\n",
    "\n",
    "\n",
    "# Balance deltas (note sign conventions)\n",
    "# delta_org = old - new (positive if money left origin)\n",
    "    df['delta_orig'] = df['oldbalanceOrg'] - df['newbalanceOrig']\n",
    "# delta_dest = new - old (positive if money added to dest)\n",
    "    df['delta_dest'] = df['newbalanceDest'] - df['oldbalanceDest']\n",
    "\n",
    "\n",
    "# Validate relationship: delta_orig vs amount (should match closely for many transaction types)\n",
    "    df['amount_log1p'] = np.log1p(df['amount'])\n",
    "\n",
    "\n",
    "# Rapid emptying indicator\n",
    "    df['rapid_empty'] = (df['newbalanceOrig'] == 0).astype(int)\n",
    "\n",
    "\n",
    "# Large transfer flag (business rule > 200000)\n",
    "    df['large_transfer_flag'] = (df['amount'] > 200000).astype(int)\n",
    "\n",
    "\n",
    "# Time features\n",
    "    df['hour_of_day'] = df['step'] % 24\n",
    "    df['day'] = df['step'] // 24\n",
    "\n",
    "\n",
    "# Basic interaction features\n",
    "    df['type_amount'] = df['amount_log1p'] # we will let LightGBM handle categorical 'type' interactions\n",
    "\n",
    "\n",
    "    return df\n"
   ]
  },
  {
   "cell_type": "code",
   "execution_count": 54,
   "id": "133a7a83-782e-4037-8b89-f8d47487636a",
   "metadata": {},
   "outputs": [
    {
     "name": "stdout",
     "output_type": "stream",
     "text": [
      "After basic FE shape: (6362620, 20)\n",
      "     amount  amount_log1p  delta_orig  delta_dest  rapid_empty  \\\n",
      "0   9839.64      9.194276     9839.64         0.0            0   \n",
      "1   1864.28      7.531166     1864.28         0.0            0   \n",
      "2    181.00      5.204007      181.00         0.0            1   \n",
      "3    181.00      5.204007      181.00    -21182.0            1   \n",
      "4  11668.14      9.364703    11668.14         0.0            0   \n",
      "\n",
      "   is_dest_merchant  \n",
      "0                 1  \n",
      "1                 1  \n",
      "2                 0  \n",
      "3                 0  \n",
      "4                 1  \n"
     ]
    }
   ],
   "source": [
    "df = basic_feature_engineering(df)\n",
    "print('After basic FE shape:', df.shape)\n",
    "print(df[['amount','amount_log1p','delta_orig','delta_dest','rapid_empty','is_dest_merchant']].head())"
   ]
  },
  {
   "cell_type": "code",
   "execution_count": 58,
   "id": "e2365b1c-eded-4734-a2e3-55611d679282",
   "metadata": {},
   "outputs": [
    {
     "name": "stdout",
     "output_type": "stream",
     "text": [
      "Computing cumulative aggregates per origin (lightweight)\n",
      "Computing cumulative aggregates per destination\n",
      "Sample engineered features:\n",
      "      nameOrig  step  orig_cumcount  orig_cumamount_mean     nameDest  \\\n",
      "0  C1278839936     1              0            257348.03   C985934102   \n",
      "1   C944752500     1              0              7512.61   M238874235   \n",
      "2   C948960194     1              0               663.34   M173060252   \n",
      "3   C100708535     1              0            377287.80   C985934102   \n",
      "4   C519303080     1              0              4252.82  M1345265484   \n",
      "5   C976358110     1              0              9800.58  M1690233783   \n",
      "6   C695248316     1              0           1201716.66   C665576141   \n",
      "7   C663215704     1              0             69865.39   C665576141   \n",
      "8   C556945462     1              0            280403.82   C665576141   \n",
      "9   C555943503     1              0            957339.52   C665576141   \n",
      "\n",
      "   dest_cumcount  dest_cumamount_mean  \n",
      "0              3        391893.007500  \n",
      "1              0          7512.610000  \n",
      "2              0           663.340000  \n",
      "3              0        377287.800000  \n",
      "4              0          4252.820000  \n",
      "5              0          9800.580000  \n",
      "6             13        559057.881429  \n",
      "7             12        509622.590769  \n",
      "8             11        546269.024167  \n",
      "9             10        570438.588182  \n"
     ]
    }
   ],
   "source": [
    "# %%\n",
    "# 4) Create light-weight behavioral features (efficiently)\n",
    "# NOTE: For full production you should compute time-aware rolling windows per user in streaming or with grouped windows.\n",
    "# Here we compute a few cumulative counts/means which are causal if we ensure step ordering per user.\n",
    "\n",
    "# Sort by nameOrig & step to compute cumulative counts per origin\n",
    "print('Computing cumulative aggregates per origin (lightweight)')\n",
    "df = df.sort_values(['nameOrig', 'step']).reset_index(drop=True)\n",
    "# cumulative count of transactions for origin up until (but excluding) this transaction\n",
    "# We'll use groupby.cumcount which counts previous transactions of the same origin\n",
    "\n",
    "df['orig_cumcount'] = df.groupby('nameOrig').cumcount()\n",
    "# moving average of amount per origin (cumulative mean)\n",
    "df['orig_cumamount_mean'] = df.groupby('nameOrig')['amount'].transform('cumsum') / (df['orig_cumcount'] + 1)\n",
    "\n",
    "# For destination similar features\n",
    "print('Computing cumulative aggregates per destination')\n",
    "df = df.sort_values(['nameDest', 'step']).reset_index(drop=True)\n",
    "df['dest_cumcount'] = df.groupby('nameDest').cumcount()\n",
    "df['dest_cumamount_mean'] = df.groupby('nameDest')['amount'].transform('cumsum') / (df['dest_cumcount'] + 1)\n",
    "\n",
    "# Re-sort back by step for time-based split later\n",
    "df = df.sort_values('step').reset_index(drop=True)\n",
    "\n",
    "print('Sample engineered features:')\n",
    "print(df[['nameOrig','step','orig_cumcount','orig_cumamount_mean','nameDest','dest_cumcount','dest_cumamount_mean']].head(10))"
   ]
  },
  {
   "cell_type": "code",
   "execution_count": 62,
   "id": "5e3502b6-e785-4a04-9aca-9cde306b89b4",
   "metadata": {},
   "outputs": [
    {
     "name": "stdout",
     "output_type": "stream",
     "text": [
      "Max step: 743 Train cut step: 594\n",
      "Train shape: (6239040, 24) Val shape: (123580, 24)\n",
      "Train fraud rate: 0.0010512835307996103 Val fraud rate: 0.01338404272536009\n"
     ]
    }
   ],
   "source": [
    "# %%\n",
    "# 5) Train/validation split (time-based)\n",
    "# We split by step: use earlier steps for training and later steps for validation to simulate production.\n",
    "max_step = df['step'].max()\n",
    "train_cut_step = int(max_step * 0.8) # 80% earliest steps for training\n",
    "print('Max step:', max_step, 'Train cut step:', train_cut_step)\n",
    "\n",
    "train_df = df[df['step'] <= train_cut_step].copy()\n",
    "val_df = df[df['step'] > train_cut_step].copy()\n",
    "print('Train shape:', train_df.shape, 'Val shape:', val_df.shape)\n",
    "print('Train fraud rate:', train_df['isFraud'].mean(), 'Val fraud rate:', val_df['isFraud'].mean())\n"
   ]
  },
  {
   "cell_type": "code",
   "execution_count": 66,
   "id": "88704ee8-4553-46e4-9a53-fb2768482de1",
   "metadata": {},
   "outputs": [
    {
     "name": "stdout",
     "output_type": "stream",
     "text": [
      "Sampling mode ON: creating a smaller training set for prototyping\n",
      "Original train pos/neg: 6559 6232481\n",
      "Sampled train shape: (206559, 24) Pos: 6559\n"
     ]
    }
   ],
   "source": [
    "# %%\n",
    "# 6) Optional sampling for prototyping (handles class imbalance and reduces runtime)\n",
    "if SAMPLE_MODE:\n",
    "    print('Sampling mode ON: creating a smaller training set for prototyping')\n",
    "    pos = train_df[train_df['isFraud'] == 1]\n",
    "    neg = train_df[train_df['isFraud'] == 0]\n",
    "    print('Original train pos/neg:', len(pos), len(neg))\n",
    "    if SAMPLE_SIZE_POS is None:\n",
    "        sampled_pos = pos\n",
    "    else:\n",
    "        sampled_pos = pos.sample(n=SAMPLE_SIZE_POS, random_state=RANDOM_STATE)\n",
    "    sampled_neg = neg.sample(n=min(SAMPLE_SIZE_NEG, len(neg)), random_state=RANDOM_STATE)\n",
    "    train_sample = pd.concat([sampled_pos, sampled_neg]).sample(frac=1, random_state=RANDOM_STATE).reset_index(drop=True)\n",
    "    print('Sampled train shape:', train_sample.shape, 'Pos:', train_sample['isFraud'].sum())\n",
    "else:\n",
    "    train_sample = train_df\n",
    "\n",
    "\n",
    "# For validation, use full val_df (do not sample validation)\n",
    "val_sample = val_df"
   ]
  },
  {
   "cell_type": "code",
   "execution_count": 72,
   "id": "c6b99281-ba63-4b6f-8e8a-07f708e125df",
   "metadata": {},
   "outputs": [
    {
     "name": "stdout",
     "output_type": "stream",
     "text": [
      "Using features: ['type', 'amount', 'amount_log1p', 'is_dest_merchant', 'oldbalanceOrg', 'newbalanceOrig', 'oldbalanceDest', 'newbalanceDest', 'delta_orig', 'delta_dest', 'rapid_empty', 'large_transfer_flag', 'hour_of_day', 'day', 'orig_cumcount', 'orig_cumamount_mean', 'dest_cumcount', 'dest_cumamount_mean']\n"
     ]
    }
   ],
   "source": [
    "# %%\n",
    "# 7) Features selection and data preparation for training\n",
    "# We'll define a set of features to use. Avoid using raw IDs (nameOrig, nameDest) directly.\n",
    "\n",
    "\n",
    "features = [\n",
    "'type', 'amount', 'amount_log1p', 'is_dest_merchant', 'oldbalanceOrg', 'newbalanceOrig',\n",
    "'oldbalanceDest', 'newbalanceDest', 'delta_orig', 'delta_dest', 'rapid_empty', 'large_transfer_flag',\n",
    "'hour_of_day', 'day', 'orig_cumcount', 'orig_cumamount_mean', 'dest_cumcount', 'dest_cumamount_mean'\n",
    "]\n",
    "\n",
    "\n",
    "# Ensure features exist\n",
    "features = [f for f in features if f in train_sample.columns]\n",
    "print('Using features:', features)\n",
    "\n",
    "\n",
    "# Prepare datasets\n",
    "X_train = train_sample[features].copy()  # Added .copy() to create a true copy\n",
    "y_train = train_sample['isFraud']\n",
    "X_val = val_sample[features].copy()      # Added .copy() to create a true copy\n",
    "y_val = val_sample['isFraud']\n",
    "\n",
    "\n",
    "# LightGBM categorical features\n",
    "categorical_features = ['type']\n",
    "\n",
    "\n",
    "# For tree-based models, missing numeric values are OK. Convert categorical to category dtype\n",
    "for c in categorical_features:\n",
    "    X_train.loc[:, c] = X_train[c].astype('category')  # Using .loc to avoid the warning\n",
    "    X_val.loc[:, c] = X_val[c].astype('category')      # Using .loc to avoid the warning"
   ]
  },
  {
   "cell_type": "code",
   "execution_count": 76,
   "id": "eef23480-e91a-4bd0-9908-e16ed1db3ac1",
   "metadata": {},
   "outputs": [
    {
     "name": "stdout",
     "output_type": "stream",
     "text": [
      "Train neg/pos: 200000 6559 scale_pos_weight: 30.49245311785333\n",
      "Training until validation scores don't improve for 50 rounds\n",
      "[50]\ttrain's auc: 0.999929\tvalid's auc: 0.99988\n",
      "[100]\ttrain's auc: 0.999974\tvalid's auc: 0.999907\n",
      "[150]\ttrain's auc: 0.99999\tvalid's auc: 0.9999\n",
      "Early stopping, best iteration is:\n",
      "[135]\ttrain's auc: 0.999986\tvalid's auc: 0.999912\n",
      "Training completed in 2.4s\n",
      "Saved LightGBM model to ./output\\lgb_model.txt\n"
     ]
    }
   ],
   "source": [
    "# %%\n",
    "# 8) LightGBM training\n",
    "\n",
    "import time  # Added import for time module\n",
    "import os    # Added import for os module\n",
    "import lightgbm as lgb  # Added import for lightgbm\n",
    "\n",
    "ess_start = time.time()\n",
    "\n",
    "params = {\n",
    "    'objective': 'binary',\n",
    "    'boosting_type': 'gbdt',\n",
    "    'metric': 'auc',\n",
    "    'learning_rate': 0.05,\n",
    "    'num_leaves': 64,\n",
    "    'max_depth': -1,\n",
    "    'min_data_in_leaf': 50,\n",
    "    'verbosity': -1,\n",
    "}\n",
    "\n",
    "# Handle class imbalance via scale_pos_weight = negatives / positives\n",
    "neg_count = (y_train==0).sum()\n",
    "pos_count = (y_train==1).sum()\n",
    "params['scale_pos_weight'] = (neg_count / max(1, pos_count))\n",
    "print('Train neg/pos:', neg_count, pos_count, 'scale_pos_weight:', params['scale_pos_weight'])\n",
    "\n",
    "dtrain = lgb.Dataset(X_train, label=y_train, categorical_feature=categorical_features, free_raw_data=False)\n",
    "dval = lgb.Dataset(X_val, label=y_val, reference=dtrain, categorical_feature=categorical_features, free_raw_data=False)\n",
    "\n",
    "# Corrected: Using callbacks for early stopping instead of early_stopping_rounds parameter\n",
    "model = lgb.train(\n",
    "    params,\n",
    "    dtrain,\n",
    "    num_boost_round=1000,\n",
    "    valid_sets=[dtrain, dval],\n",
    "    valid_names=['train','valid'],\n",
    "    callbacks=[lgb.early_stopping(stopping_rounds=50), lgb.log_evaluation(period=50)]  # Corrected parameter\n",
    ")\n",
    "\n",
    "print('Training completed in {:.1f}s'.format(time.time() - ess_start))\n",
    "\n",
    "# Save model\n",
    "model.save_model(os.path.join(OUTPUT_DIR, 'lgb_model.txt'))\n",
    "print('Saved LightGBM model to', os.path.join(OUTPUT_DIR, 'lgb_model.txt'))"
   ]
  },
  {
   "cell_type": "code",
   "execution_count": 78,
   "id": "5a4f57a8-ac40-4128-bd5c-fd6d1c4cb960",
   "metadata": {},
   "outputs": [
    {
     "name": "stdout",
     "output_type": "stream",
     "text": [
      "\n",
      "Validation ROC-AUC: 0.999912\n",
      "Validation PR-AUC: 0.993618\n",
      "\n",
      "At threshold 0.50 -> Precision: 0.6242, Recall: 1.0000, F1: 0.7686\n",
      "\n",
      "Confusion matrix (rows: true, cols: pred):\n",
      " [[120930    996]\n",
      " [     0   1654]]\n"
     ]
    }
   ],
   "source": [
    "# %%\n",
    "# 9) Evaluation on validation set\n",
    "\n",
    "\n",
    "y_pred_prob = model.predict(X_val, num_iteration=model.best_iteration)\n",
    "\n",
    "\n",
    "roc_auc = roc_auc_score(y_val, y_pred_prob)\n",
    "pr_auc = average_precision_score(y_val, y_pred_prob)\n",
    "\n",
    "\n",
    "print('\\nValidation ROC-AUC: {:.6f}'.format(roc_auc))\n",
    "print('Validation PR-AUC: {:.6f}'.format(pr_auc))\n",
    "\n",
    "\n",
    "# Precision/Recall at chosen threshold (we'll tune threshold using f1 or business metric)\n",
    "threshold = 0.5\n",
    "y_pred_label = (y_pred_prob >= threshold).astype(int)\n",
    "precision = precision_score(y_val, y_pred_label)\n",
    "recall = recall_score(y_val, y_pred_label)\n",
    "f1 = f1_score(y_val, y_pred_label)\n",
    "\n",
    "\n",
    "print('\\nAt threshold {:.2f} -> Precision: {:.4f}, Recall: {:.4f}, F1: {:.4f}'.format(threshold, precision, recall, f1))\n",
    "\n",
    "\n",
    "# Confusion matrix\n",
    "cm = confusion_matrix(y_val, y_pred_label)\n",
    "print('\\nConfusion matrix (rows: true, cols: pred):\\n', cm)"
   ]
  },
  {
   "cell_type": "code",
   "execution_count": 84,
   "id": "4d43eb6f-a0aa-4911-a9c7-e748cd911fe0",
   "metadata": {},
   "outputs": [
    {
     "name": "stdout",
     "output_type": "stream",
     "text": [
      "Precision@100 = 1.0000\n",
      "Precision@500 = 1.0000\n",
      "Precision@1000 = 1.0000\n",
      "Precision@5000 = 0.3308\n"
     ]
    },
    {
     "data": {
      "image/png": "[encoded data removed]",
      "text/plain": [
       "<Figure size 600x600 with 1 Axes>"
      ]
     },
     "metadata": {},
     "output_type": "display_data"
    }
   ],
   "source": [
    "# %%\n",
    "# 10) Precision@K and top-percentile analysis\n",
    "\n",
    "\n",
    "def precision_at_k(y_true, y_score, k):\n",
    "    # return precision among top k scored samples\n",
    "    idx = np.argsort(y_score)[-k:]\n",
    "    return y_true.iloc[idx].mean()\n",
    "\n",
    "\n",
    "# Compute Precision@k for several k values (e.g., top 100, 500, 1000)\n",
    "ks = [100, 500, 1000, 5000]\n",
    "for k in ks:\n",
    "    if k < len(y_val):  # This line was not properly indented\n",
    "        p_at_k = precision_at_k(y_val.reset_index(drop=True), y_pred_prob, k)\n",
    "        print('Precision@{} = {:.4f}'.format(k, p_at_k))\n",
    "\n",
    "\n",
    "# Precision-Recall curve\n",
    "precision_vals, recall_vals, pr_thresholds = precision_recall_curve(y_val, y_pred_prob)\n",
    "\n",
    "\n",
    "plt.figure(figsize=(6,6))\n",
    "plt.plot(recall_vals, precision_vals)\n",
    "plt.xlabel('Recall')\n",
    "plt.ylabel('Precision')\n",
    "plt.title('Precision-Recall Curve')\n",
    "plt.grid(True)\n",
    "plt.show()"
   ]
  },
  {
   "cell_type": "code",
   "execution_count": 86,
   "id": "bf75ad70-fed4-4fb3-935e-635473406432",
   "metadata": {},
   "outputs": [
    {
     "name": "stdout",
     "output_type": "stream",
     "text": [
      "\n",
      "Total fraud amount in validation period: 2722434569.36\n",
      "Amount prevented (TP): 2722434569.36, Amount blocked (FP): 115260200.51\n"
     ]
    }
   ],
   "source": [
    "# %%\n",
    "# 11) Monetary impact estimate (rough)\n",
    "# Assume fraud amount is the 'amount' of fraudulent transactions; compute total fraud amount in validation\n",
    "val_df_with_preds = val_sample.copy()\n",
    "val_df_with_preds['pred_score'] = y_pred_prob\n",
    "val_df_with_preds['pred_label_0_5'] = y_pred_label\n",
    "\n",
    "\n",
    "# Total fraud monetary loss (true positives + false negatives)\n",
    "true_fraud_amount = val_df_with_preds.loc[val_df_with_preds['isFraud']==1, 'amount'].sum()\n",
    "print('\\nTotal fraud amount in validation period: {:.2f}'.format(true_fraud_amount))\n",
    "\n",
    "\n",
    "# If we block predictions where pred_label==1, money prevented (TP amount)\n",
    "tp_amount = val_df_with_preds.loc[(val_df_with_preds['isFraud']==1) & (val_df_with_preds['pred_label_0_5']==1), 'amount'].sum()\n",
    "fp_amount = val_df_with_preds.loc[(val_df_with_preds['isFraud']==0) & (val_df_with_preds['pred_label_0_5']==1), 'amount'].sum()\n",
    "\n",
    "\n",
    "print('Amount prevented (TP): {:.2f}, Amount blocked (FP): {:.2f}'.format(tp_amount, fp_amount))"
   ]
  },
  {
   "cell_type": "code",
   "execution_count": 98,
   "id": "d5e7b511-f520-497b-aebb-53e3d0aec95d",
   "metadata": {},
   "outputs": [
    {
     "name": "stdout",
     "output_type": "stream",
     "text": [
      "Computing SHAP explanations (may take time; sampling used)\n"
     ]
    },
    {
     "data": {
      "image/png": "[encoded data removed]",
      "text/plain": [
       "<Figure size 800x870 with 2 Axes>"
      ]
     },
     "metadata": {},
     "output_type": "display_data"
    }
   ],
   "source": [
    "# %%\n",
    "# 12) Explainability: SHAP (if available)\n",
    "if shap is not None:\n",
    "    print('Computing SHAP explanations (may take time; sampling used)')\n",
    "    # sample for SHAP\n",
    "    n_shap_sample = 20000\n",
    "    shap_sample = val_sample.sample(n=min(n_shap_sample, len(val_sample)), random_state=RANDOM_STATE)\n",
    "    shap_X = shap_sample[features]\n",
    "    explainer = shap.TreeExplainer(model)\n",
    "    shap_values = explainer.shap_values(shap_X)\n",
    "\n",
    "    # Summary plot\n",
    "    try:\n",
    "        shap.summary_plot(shap_values, shap_X, show=True)\n",
    "    except Exception as e:\n",
    "        print('SHAP plotting error:', e)\n",
    "        # fallback: compute mean absolute SHAP per feature\n",
    "        import numpy as _np\n",
    "        mean_abs_shap = _np.abs(shap_values).mean(axis=0)\n",
    "        imp_df = pd.DataFrame({'feature': shap_X.columns, 'mean_abs_shap': mean_abs_shap}).sort_values('mean_abs_shap', ascending=False)\n",
    "        print(imp_df)\n",
    "        imp_df.to_csv(os.path.join(OUTPUT_DIR, 'shap_feature_importance.csv'), index=False)\n",
    "        print('Wrote shap importance to', os.path.join(OUTPUT_DIR, 'shap_feature_importance.csv'))\n",
    "else:\n",
    "    print('shap not installed; generating LightGBM feature importance instead')\n",
    "    fi = pd.DataFrame({'feature': model.feature_name(), 'importance': model.feature_importance()}).sort_values('importance', ascending=False)\n",
    "    print(fi)\n",
    "    fi.to_csv(os.path.join(OUTPUT_DIR, 'lgb_feature_importance.csv'), index=False)\n",
    "    print('Wrote feature importance to', os.path.join(OUTPUT_DIR, 'lgb_feature_importance.csv'))"
   ]
  },
  {
   "cell_type": "code",
   "execution_count": 10,
   "id": "10f20a40-4a33-4e1d-bb7d-b08536b7ccff",
   "metadata": {},
   "outputs": [
    {
     "name": "stdout",
     "output_type": "stream",
     "text": [
      "EDA plots generated.\n"
     ]
    }
   ],
   "source": [
    "df = pd.read_csv(\"Fraud_encoded.csv\")\n",
    "\n",
    "# 1. Transaction Type vs. Fraud\n",
    "plt.figure(figsize=(10, 6))\n",
    "sns.countplot(data=df, x='type_CASH_IN', hue='isFraud')\n",
    "plt.title('Fraudulent vs. Non-Fraudulent by Transaction Type: CASH_IN')\n",
    "plt.savefig('fraud_by_type_cash_in.png')\n",
    "plt.close()\n",
    "\n",
    "plt.figure(figsize=(10, 6))\n",
    "sns.countplot(data=df, x='type_CASH_OUT', hue='isFraud')\n",
    "plt.title('Fraudulent vs. Non-Fraudulent by Transaction Type: CASH_OUT')\n",
    "plt.savefig('fraud_by_type_cash_out.png')\n",
    "plt.close()\n",
    "\n",
    "plt.figure(figsize=(10, 6))\n",
    "sns.countplot(data=df, x='type_DEBIT', hue='isFraud')\n",
    "plt.title('Fraudulent vs. Non-Fraudulent by Transaction Type: DEBIT')\n",
    "plt.savefig('fraud_by_type_debit.png')\n",
    "plt.close()\n",
    "\n",
    "plt.figure(figsize=(10, 6))\n",
    "sns.countplot(data=df, x='type_PAYMENT', hue='isFraud')\n",
    "plt.title('Fraudulent vs. Non-Fraudulent by Transaction Type: PAYMENT')\n",
    "plt.savefig('fraud_by_type_payment.png')\n",
    "plt.close()\n",
    "\n",
    "plt.figure(figsize=(10, 6))\n",
    "sns.countplot(data=df, x='type_TRANSFER', hue='isFraud')\n",
    "plt.title('Fraudulent vs. Non-Fraudulent by Transaction Type: TRANSFER')\n",
    "plt.savefig('fraud_by_type_transfer.png')\n",
    "plt.close()\n",
    "\n",
    "# 2. Amount vs. Fraud (for fraudulent transactions)\n",
    "plt.figure(figsize=(12, 7))\n",
    "sns.histplot(df[df['isFraud'] == 1]['amount'], bins=50, kde=True, color='red')\n",
    "plt.title('Distribution of Fraudulent Transaction Amounts')\n",
    "plt.yscale('log')\n",
    "plt.savefig('fraudulent_amount_distribution.png')\n",
    "plt.close()\n",
    "\n",
    "# 3. Balance changes vs. Fraud\n",
    "# For original customer\n",
    "df['errorBalanceOrig'] = df.newbalanceOrig + df.amount - df.oldbalanceOrg\n",
    "# For destination customer\n",
    "df['errorBalanceDest'] = df.oldbalanceDest + df.amount - df.newbalanceDest\n",
    "\n",
    "plt.figure(figsize=(12, 7))\n",
    "sns.histplot(df[df['isFraud'] == 1]['errorBalanceOrig'], bins=50, kde=True, color='purple')\n",
    "plt.title('Distribution of Error in Original Balance for Fraudulent Transactions')\n",
    "plt.yscale('log')\n",
    "plt.savefig('fraudulent_error_orig_distribution.png')\n",
    "plt.close()\n",
    "\n",
    "plt.figure(figsize=(12, 7))\n",
    "sns.histplot(df[df['isFraud'] == 1]['errorBalanceDest'], bins=50, kde=True, color='orange')\n",
    "plt.title('Distribution of Error in Destination Balance for Fraudulent Transactions')\n",
    "plt.yscale('log')\n",
    "plt.savefig('fraudulent_error_dest_distribution.png')\n",
    "plt.close()\n",
    "\n",
    "print(\"EDA plots generated.\")"
   ]
  },
  {
   "cell_type": "code",
   "execution_count": 102,
   "id": "9b250b3e-520d-4f6a-a219-27d7af411b72",
   "metadata": {},
   "outputs": [
    {
     "name": "stdout",
     "output_type": "stream",
     "text": [
      "Saved validation predictions to ./output\\validation_predictions_sample.csv\n",
      "Wrote metrics to ./output\\metrics.txt\n"
     ]
    }
   ],
   "source": [
    "# 13) Save validation predictions and summary metrics for reporting\n",
    "val_df_with_preds[['step','type','amount','nameOrig','nameDest','isFraud','pred_score','pred_label_0_5']].to_csv(os.path.join(OUTPUT_DIR, 'validation_predictions_sample.csv'), index=False)\n",
    "print('Saved validation predictions to', os.path.join(OUTPUT_DIR, 'validation_predictions_sample.csv'))\n",
    "\n",
    "\n",
    "with open(os.path.join(OUTPUT_DIR, 'metrics.txt'), 'w') as f:\n",
    "    f.write('ROC-AUC: {:.6f}\\n'.format(roc_auc))\n",
    "    f.write('PR-AUC: {:.6f}\\n'.format(pr_auc))\n",
    "    f.write('Precision@0.5: {:.6f}\\n'.format(precision))\n",
    "    f.write('Recall@0.5: {:.6f}\\n'.format(recall))\n",
    "    f.write('F1@0.5: {:.6f}\\n'.format(f1))\n",
    "\n",
    "\n",
    "    print('Wrote metrics to', os.path.join(OUTPUT_DIR, 'metrics.txt'))\n"
   ]
  },
  {
   "cell_type": "code",
   "execution_count": 106,
   "id": "6900b80b-a08d-4c30-8e9b-1ce4414f7290",
   "metadata": {},
   "outputs": [
    {
     "name": "stdout",
     "output_type": "stream",
     "text": [
      "\n",
      "---- EXECUTIVE SUMMARY (to paste into Google Doc) ----\n",
      "Model: LightGBM (num_boost_round=135)\n",
      "Validation ROC-AUC: 0.999912, PR-AUC: 0.993618\n",
      "Top features (by LightGBM importance):\n",
      "                feature  importance\n",
      "1                amount        1339\n",
      "4         oldbalanceOrg        1262\n",
      "13                  day         894\n",
      "12          hour_of_day         844\n",
      "8            delta_orig         797\n",
      "9            delta_dest         642\n",
      "7        newbalanceDest         611\n",
      "6        oldbalanceDest         593\n",
      "17  dest_cumamount_mean         564\n",
      "16        dest_cumcount         318\n",
      "15  orig_cumamount_mean         249\n",
      "5        newbalanceOrig         177\n",
      "0                  type         173\n",
      "3      is_dest_merchant          33\n",
      "10          rapid_empty           7\n",
      "\n",
      "Recommendations: implement hybrid rule+ML detection, rate-limiting for outbound transfers, step-up auth for high-risk events, streaming aggregates for near-real-time detection, feedback loop to retrain model with investigator labels.\n"
     ]
    }
   ],
   "source": [
    "# 14) Short summary printout to include in your submission document\n",
    "print('\\n---- EXECUTIVE SUMMARY (to paste into Google Doc) ----')\n",
    "print('Model: LightGBM (num_boost_round={})'.format(model.best_iteration))\n",
    "print('Validation ROC-AUC: {:.6f}, PR-AUC: {:.6f}'.format(roc_auc, pr_auc))\n",
    "print('Top features (by LightGBM importance):')\n",
    "\n",
    "try:\n",
    "    imp_df = pd.DataFrame({'feature': model.feature_name(), 'importance': model.feature_importance()}).sort_values('importance', ascending=False)\n",
    "    print(imp_df.head(15))\n",
    "except Exception:\n",
    "    pass\n",
    "\n",
    "\n",
    "print('\\nRecommendations: implement hybrid rule+ML detection, rate-limiting for outbound transfers, step-up auth for high-risk events, streaming aggregates for near-real-time detection, feedback loop to retrain model with investigator labels.')"
   ]
  },
  {
   "cell_type": "code",
   "execution_count": 108,
   "id": "84577e1c-a87f-4b4a-8743-ef451a565314",
   "metadata": {},
   "outputs": [
    {
     "name": "stdout",
     "output_type": "stream",
     "text": [
      "Done. Output directory: C:\\Users\\Admin\\output\n"
     ]
    },
    {
     "data": {
      "text/plain": [
       "11312"
      ]
     },
     "execution_count": 108,
     "metadata": {},
     "output_type": "execute_result"
    }
   ],
   "source": [
    "# %%\n",
    "# 15) Cleanup\n",
    "print('Done. Output directory:', os.path.abspath(OUTPUT_DIR))\n",
    "\n",
    "\n",
    "# Garbage collection\n",
    "del dtrain, dval\n",
    "gc.collect()"
   ]
  },
  {
   "cell_type": "code",
   "execution_count": 8,
   "id": "5462074c-286a-4ea7-ac36-1f3f63e0399d",
   "metadata": {},
   "outputs": [
    {
     "name": "stdout",
     "output_type": "stream",
     "text": [
      "Logistic Regression Model Performance:\n",
      "              precision    recall  f1-score   support\n",
      "\n",
      "           0       1.00      0.96      0.98    190634\n",
      "           1       0.03      0.98      0.06       245\n",
      "\n",
      "    accuracy                           0.96    190879\n",
      "   macro avg       0.51      0.97      0.52    190879\n",
      "weighted avg       1.00      0.96      0.98    190879\n",
      "\n",
      "ROC AUC Score: 0.9935805399512219\n",
      "Logistic Regression model saved to logistic_regression_model.pkl\n"
     ]
    }
   ],
   "source": [
    "import pandas as pd\n",
    "from sklearn.linear_model import LogisticRegression\n",
    "from sklearn.metrics import classification_report, roc_auc_score\n",
    "\n",
    "X_train = pd.read_csv(\"X_train.csv\")\n",
    "y_train = pd.read_csv(\"y_train.csv\").squeeze()\n",
    "X_test = pd.read_csv(\"X_test.csv\")\n",
    "y_test = pd.read_csv(\"y_test.csv\").squeeze()\n",
    "\n",
    "# Drop non-numeric columns from X_train and X_test\n",
    "X_train = X_train.select_dtypes(include=[\"float64\", \"int64\", \"bool\"])\n",
    "X_test = X_test.select_dtypes(include=[\"float64\", \"int64\", \"bool\"])\n",
    "\n",
    "# Handle potential missing columns after dropping non-numeric ones (e.g., if some bool columns were dropped)\n",
    "# Ensure X_train and X_test have the same columns\n",
    "train_cols = set(X_train.columns)\n",
    "test_cols = set(X_test.columns)\n",
    "\n",
    "missing_in_test = list(train_cols - test_cols)\n",
    "for col in missing_in_test:\n",
    "    X_test[col] = 0 # or appropriate default value\n",
    "\n",
    "missing_in_train = list(test_cols - train_cols)\n",
    "for col in missing_in_train:\n",
    "    X_train[col] = 0 # or appropriate default value\n",
    "\n",
    "X_test = X_test[X_train.columns] # Ensure column order is the same\n",
    "\n",
    "model = LogisticRegression(solver='liblinear', random_state=42, class_weight='balanced', max_iter=1000)\n",
    "model.fit(X_train, y_train)\n",
    "\n",
    "y_pred = model.predict(X_test)\n",
    "y_proba = model.predict_proba(X_test)[:, 1]\n",
    "\n",
    "print(\"Logistic Regression Model Performance:\")\n",
    "print(classification_report(y_test, y_pred))\n",
    "print(f\"ROC AUC Score: {roc_auc_score(y_test, y_proba)}\")\n",
    "\n",
    "# Save the model (optional, for later use)\n",
    "import joblib\n",
    "joblib.dump(model, 'logistic_regression_model.pkl')\n",
    "print(\"Logistic Regression model saved to logistic_regression_model.pkl\")\n"
   ]
  },
  {
   "cell_type": "code",
   "execution_count": 4,
   "id": "3608a494-2db7-4978-8b4e-56e6facd8655",
   "metadata": {},
   "outputs": [
    {
     "name": "stdout",
     "output_type": "stream",
     "text": [
      "Random Forest Classifier Model Performance:\n",
      "              precision    recall  f1-score   support\n",
      "\n",
      "           0       1.00      1.00      1.00    190634\n",
      "           1       0.99      0.73      0.84       245\n",
      "\n",
      "    accuracy                           1.00    190879\n",
      "   macro avg       0.99      0.87      0.92    190879\n",
      "weighted avg       1.00      1.00      1.00    190879\n",
      "\n",
      "ROC AUC Score: 0.9300024750922432\n",
      "Random Forest Classifier model saved to random_forest_model.pkl\n"
     ]
    }
   ],
   "source": [
    "import pandas as pd\n",
    "from sklearn.ensemble import RandomForestClassifier\n",
    "from sklearn.metrics import classification_report, roc_auc_score\n",
    "import joblib\n",
    "\n",
    "X_train = pd.read_csv(\"X_train.csv\")\n",
    "y_train = pd.read_csv(\"y_train.csv\").squeeze()\n",
    "X_test = pd.read_csv(\"X_test.csv\")\n",
    "y_test = pd.read_csv(\"y_test.csv\").squeeze()\n",
    "\n",
    "# Drop non-numeric columns from X_train and X_test\n",
    "X_train = X_train.select_dtypes(include=[\"float64\", \"int64\", \"bool\"])\n",
    "X_test = X_test.select_dtypes(include=[\"float64\", \"int64\", \"bool\"])\n",
    "\n",
    "# Ensure X_train and X_test have the same columns\n",
    "train_cols = set(X_train.columns)\n",
    "test_cols = set(X_test.columns)\n",
    "\n",
    "missing_in_test = list(train_cols - test_cols)\n",
    "for col in missing_in_test:\n",
    "    X_test[col] = 0\n",
    "\n",
    "missing_in_train = list(test_cols - train_cols)\n",
    "for col in missing_in_train:\n",
    "    X_train[col] = 0\n",
    "\n",
    "X_test = X_test[X_train.columns]\n",
    "\n",
    "# Initialize and train RandomForestClassifier\n",
    "# Using class_weight='balanced' to handle imbalanced dataset\n",
    "model = RandomForestClassifier(n_estimators=100, random_state=42, class_weight='balanced', n_jobs=-1)\n",
    "model.fit(X_train, y_train)\n",
    "\n",
    "# Make predictions\n",
    "y_pred = model.predict(X_test)\n",
    "y_proba = model.predict_proba(X_test)[:, 1]\n",
    "\n",
    "print(\"Random Forest Classifier Model Performance:\")\n",
    "print(classification_report(y_test, y_pred))\n",
    "print(f\"ROC AUC Score: {roc_auc_score(y_test, y_proba)}\")\n",
    "\n",
    "# Save the model\n",
    "joblib.dump(model, 'random_forest_model.pkl')\n",
    "print(\"Random Forest Classifier model saved to random_forest_model.pkl\")\n"
   ]
  },
  {
   "cell_type": "code",
   "execution_count": 6,
   "id": "11aa1353-6070-4be5-8f34-59a4000c9c59",
   "metadata": {},
   "outputs": [
    {
     "name": "stdout",
     "output_type": "stream",
     "text": [
      "Top 10 Feature Importances:\n",
      "errorBalanceOrig     0.296369\n",
      "balance_diff_orig    0.294105\n",
      "amount               0.104079\n",
      "type_PAYMENT         0.072635\n",
      "step                 0.059047\n",
      "type_TRANSFER        0.054110\n",
      "balance_diff_dest    0.053441\n",
      "errorBalanceDest     0.035974\n",
      "type_CASH_OUT        0.018318\n",
      "type_CASH_IN         0.010059\n",
      "dtype: float64\n",
      "Feature importances extracted and plot saved to feature_importances.png\n"
     ]
    }
   ],
   "source": [
    "import joblib\n",
    "import matplotlib.pyplot as plt\n",
    "import seaborn as sns\n",
    "\n",
    "# Load the trained Random Forest model\n",
    "model = joblib.load(\"random_forest_model.pkl\")\n",
    "\n",
    "# Load the training data to get feature names\n",
    "X_train = pd.read_csv(\"X_train.csv\")\n",
    "\n",
    "# Drop non-numeric columns from X_train\n",
    "X_train = X_train.select_dtypes(include=[\"float64\", \"int64\", \"bool\"])\n",
    "\n",
    "# Get feature importances\n",
    "feature_importances = pd.Series(model.feature_importances_, index=X_train.columns)\n",
    "\n",
    "# Sort feature importances in descending order\n",
    "sorted_importances = feature_importances.sort_values(ascending=False)\n",
    "\n",
    "print(\"Top 10 Feature Importances:\")\n",
    "print(sorted_importances.head(10))\n",
    "\n",
    "# Plot feature importances\n",
    "plt.figure(figsize=(12, 8))\n",
    "sns.barplot(x=sorted_importances.head(10).values, y=sorted_importances.head(10).index)\n",
    "plt.title(\"Top 10 Feature Importances from Random Forest\")\n",
    "plt.xlabel(\"Importance\")\n",
    "plt.ylabel(\"Feature\")\n",
    "plt.tight_layout()\n",
    "plt.savefig(\"feature_importances.png\")\n",
    "plt.close()\n",
    "\n",
    "print(\"Feature importances extracted and plot saved to feature_importances.png\")"
   ]
  },
  {
   "cell_type": "code",
   "execution_count": null,
   "id": "a70c9d19-445b-4fb2-835a-d4b256416a75",
   "metadata": {},
   "outputs": [],
   "source": []
  }
 ],
 "metadata": {
  "kernelspec": {
   "display_name": "Python [conda env:Anaconda]",
   "language": "python",
   "name": "conda-env-Anaconda-py"
  },
  "language_info": {
   "codemirror_mode": {
    "name": "ipython",
    "version": 3
   },
   "file_extension": ".py",
   "mimetype": "text/x-python",
   "name": "python",
   "nbconvert_exporter": "python",
   "pygments_lexer": "ipython3",
   "version": "3.13.5"
  }
 },
 "nbformat": 4,
 "nbformat_minor": 5
}
